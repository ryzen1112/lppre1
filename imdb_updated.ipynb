{
  "nbformat": 4,
  "nbformat_minor": 0,
  "metadata": {
    "colab": {
      "provenance": [],
      "authorship_tag": "ABX9TyPoA4h8H96FpeLOMq3tqFFF",
      "include_colab_link": true
    },
    "kernelspec": {
      "name": "python3",
      "display_name": "Python 3"
    },
    "language_info": {
      "name": "python"
    }
  },
  "cells": [
    {
      "cell_type": "markdown",
      "metadata": {
        "id": "view-in-github",
        "colab_type": "text"
      },
      "source": [
        "<a href=\"https://colab.research.google.com/github/Pravin190/lppre/blob/main/imdb_updated.ipynb\" target=\"_parent\"><img src=\"https://colab.research.google.com/assets/colab-badge.svg\" alt=\"Open In Colab\"/></a>"
      ]
    },
    {
      "cell_type": "code",
      "execution_count": 2,
      "metadata": {
        "colab": {
          "base_uri": "https://localhost:8080/"
        },
        "id": "jX-YXvBanHM2",
        "outputId": "669bb602-6907-4e7c-d8e7-5ae1ad91b54f"
      },
      "outputs": [
        {
          "output_type": "stream",
          "name": "stdout",
          "text": [
            "Downloading data from https://storage.googleapis.com/tensorflow/tf-keras-datasets/imdb_word_index.json\n",
            "1641221/1641221 [==============================] - 0s 0us/step\n",
            "Epoch 1/10\n",
            "196/196 [==============================] - 4s 16ms/step - loss: 0.6651 - accuracy: 0.6373 - val_loss: 0.6029 - val_accuracy: 0.7362\n",
            "Epoch 2/10\n",
            "196/196 [==============================] - 2s 10ms/step - loss: 0.5046 - accuracy: 0.8164 - val_loss: 0.4379 - val_accuracy: 0.8322\n",
            "Epoch 3/10\n",
            "196/196 [==============================] - 2s 10ms/step - loss: 0.3633 - accuracy: 0.8691 - val_loss: 0.3612 - val_accuracy: 0.8496\n",
            "Epoch 4/10\n",
            "196/196 [==============================] - 2s 10ms/step - loss: 0.2929 - accuracy: 0.8894 - val_loss: 0.3385 - val_accuracy: 0.8524\n",
            "Epoch 5/10\n",
            "196/196 [==============================] - 2s 10ms/step - loss: 0.2544 - accuracy: 0.9046 - val_loss: 0.3334 - val_accuracy: 0.8549\n",
            "Epoch 6/10\n",
            "196/196 [==============================] - 2s 10ms/step - loss: 0.2279 - accuracy: 0.9156 - val_loss: 0.3374 - val_accuracy: 0.8548\n",
            "Epoch 7/10\n",
            "196/196 [==============================] - 3s 18ms/step - loss: 0.2087 - accuracy: 0.9238 - val_loss: 0.3498 - val_accuracy: 0.8514\n",
            "Epoch 8/10\n",
            "196/196 [==============================] - 2s 8ms/step - loss: 0.1921 - accuracy: 0.9314 - val_loss: 0.3605 - val_accuracy: 0.8497\n",
            "Epoch 9/10\n",
            "196/196 [==============================] - 2s 10ms/step - loss: 0.1777 - accuracy: 0.9381 - val_loss: 0.3808 - val_accuracy: 0.8460\n",
            "Epoch 10/10\n",
            "196/196 [==============================] - 2s 9ms/step - loss: 0.1662 - accuracy: 0.9442 - val_loss: 0.3932 - val_accuracy: 0.8448\n",
            "782/782 [==============================] - 1s 2ms/step - loss: 0.3932 - accuracy: 0.8448\n",
            "Test Loss: 0.3932\n",
            "Test Accuracy: 0.8448\n",
            "1/1 [==============================] - 0s 92ms/step\n",
            "Review Sentiment: negative (Confidence: 0.3805)\n"
          ]
        }
      ],
      "source": [
        "import tensorflow as tf\n",
        "from tensorflow.keras.datasets import imdb\n",
        "from tensorflow.keras.models import Sequential\n",
        "from tensorflow.keras.layers import Dense, Embedding, GlobalAveragePooling1D\n",
        "\n",
        "# Step 1: Data Preparation\n",
        "(x_train, y_train), (x_test, y_test) = imdb.load_data(num_words=10000)\n",
        "\n",
        "# Get the word index\n",
        "word_index = imdb.get_word_index()\n",
        "\n",
        "# Step 2: Data Preprocessing\n",
        "x_train = tf.keras.preprocessing.sequence.pad_sequences(x_train, maxlen=100)\n",
        "x_test = tf.keras.preprocessing.sequence.pad_sequences(x_test, maxlen=100)\n",
        "\n",
        "# Step 3: Building the DNN Model\n",
        "model = Sequential()\n",
        "model.add(Embedding(10000, 16, input_length=100))\n",
        "model.add(GlobalAveragePooling1D())\n",
        "model.add(Dense(16, activation='relu'))\n",
        "model.add(Dense(1, activation='sigmoid'))\n",
        "\n",
        "# Step 4: Training the Model\n",
        "model.compile(optimizer='adam', loss='binary_crossentropy', metrics=['accuracy'])\n",
        "model.fit(x_train, y_train, epochs=10, batch_size=128, validation_data=(x_test, y_test))\n",
        "\n",
        "# Step 5: Model Evaluation\n",
        "loss, accuracy = model.evaluate(x_test, y_test)\n",
        "print(f'Test Loss: {loss:.4f}')\n",
        "print(f'Test Accuracy: {accuracy:.4f}')\n",
        "\n",
        "# Step 6: Making Predictions\n",
        "review = \"This movie was great! I really enjoyed it.\"\n",
        "review = tf.keras.preprocessing.sequence.pad_sequences([[word_index.get(word, 0) for word in review.split()]], maxlen=100)\n",
        "prediction = model.predict(review)[0][0]\n",
        "sentiment = \"positive\" if prediction > 0.5 else \"negative\"\n",
        "print(f'Review Sentiment: {sentiment} (Confidence: {prediction:.4f})')\n"
      ]
    }
  ]
}