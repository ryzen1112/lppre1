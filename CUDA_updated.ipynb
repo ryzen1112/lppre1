{
  "nbformat": 4,
  "nbformat_minor": 0,
  "metadata": {
    "colab": {
      "provenance": [],
      "gpuType": "T4",
      "authorship_tag": "ABX9TyOr9K0MPBTO2w46jVizAlj/",
      "include_colab_link": true
    },
    "kernelspec": {
      "name": "python3",
      "display_name": "Python 3"
    },
    "language_info": {
      "name": "python"
    },
    "accelerator": "GPU",
    "gpuClass": "standard"
  },
  "cells": [
    {
      "cell_type": "markdown",
      "metadata": {
        "id": "view-in-github",
        "colab_type": "text"
      },
      "source": [
        "<a href=\"https://colab.research.google.com/github/Pravin190/lppre/blob/main/CUDA_updated.ipynb\" target=\"_parent\"><img src=\"https://colab.research.google.com/assets/colab-badge.svg\" alt=\"Open In Colab\"/></a>"
      ]
    },
    {
      "cell_type": "code",
      "execution_count": 1,
      "metadata": {
        "colab": {
          "base_uri": "https://localhost:8080/"
        },
        "id": "8KHpOPPFsG4s",
        "outputId": "01eaf3db-12e6-45a6-82c3-838e728dd510"
      },
      "outputs": [
        {
          "name": "stdout",
          "output_type": "stream",
          "text": [
            "Looking in indexes: https://pypi.org/simple, https://us-python.pkg.dev/colab-wheels/public/simple/\n",
            "Requirement already satisfied: numba in /usr/local/lib/python3.10/dist-packages (0.56.4)\n",
            "Requirement already satisfied: llvmlite<0.40,>=0.39.0dev0 in /usr/local/lib/python3.10/dist-packages (from numba) (0.39.1)\n",
            "Requirement already satisfied: numpy<1.24,>=1.18 in /usr/local/lib/python3.10/dist-packages (from numba) (1.22.4)\n",
            "Requirement already satisfied: setuptools in /usr/local/lib/python3.10/dist-packages (from numba) (67.7.2)\n",
            "Enter the length of the vectors: 3\n",
            "Enter the element of vector a at index 0: 1\n",
            "Enter the element of vector b at index 0: 2\n",
            "Enter the element of vector a at index 1: 1\n",
            "Enter the element of vector b at index 1: 2\n",
            "Enter the element of vector a at index 2: 1\n",
            "Enter the element of vector b at index 2: 2\n"
          ]
        },
        {
          "output_type": "stream",
          "name": "stderr",
          "text": [
            "/usr/local/lib/python3.10/dist-packages/numba/cuda/dispatcher.py:488: NumbaPerformanceWarning: Grid size 1 will likely result in GPU under-utilization due to low occupancy.\n",
            "  warn(NumbaPerformanceWarning(msg))\n"
          ]
        },
        {
          "output_type": "stream",
          "name": "stdout",
          "text": [
            "Result: [3. 3. 3.]\n"
          ]
        }
      ],
      "source": [
        "!pip install numba\n",
        "     \n",
        "\n",
        "import numpy as np\n",
        "from numba import cuda\n",
        "\n",
        "# CUDA kernel to perform vector addition\n",
        "@cuda.jit\n",
        "def vector_addition(a, b, result):\n",
        "    idx = cuda.threadIdx.x + cuda.blockDim.x * cuda.blockIdx.x\n",
        "    if idx < len(a):\n",
        "        result[idx] = a[idx] + b[idx]\n",
        "\n",
        "# User input for vector length\n",
        "vector_length = int(input(\"Enter the length of the vectors: \"))\n",
        "\n",
        "# User input for vector elements\n",
        "vector_a = np.zeros(vector_length, dtype=np.float32)\n",
        "vector_b = np.zeros(vector_length, dtype=np.float32)\n",
        "for i in range(vector_length):\n",
        "    vector_a[i] = float(input(\"Enter the element of vector a at index {}: \".format(i)))\n",
        "    vector_b[i] = float(input(\"Enter the element of vector b at index {}: \".format(i)))\n",
        "\n",
        "# Allocate memory on the GPU\n",
        "device_vector_a = cuda.to_device(vector_a)\n",
        "device_vector_b = cuda.to_device(vector_b)\n",
        "device_result = cuda.device_array_like(vector_a)\n",
        "\n",
        "# Define the number of threads per block and the number of blocks\n",
        "threads_per_block = 32\n",
        "blocks_per_grid = (vector_length + (threads_per_block - 1)) // threads_per_block\n",
        "\n",
        "# Launch the kernel\n",
        "vector_addition[blocks_per_grid, threads_per_block](device_vector_a, device_vector_b, device_result)\n",
        "\n",
        "# Copy the result back to the CPU\n",
        "result = device_result.copy_to_host()\n",
        "\n",
        "# Print the result\n",
        "print(\"Result:\", result)\n"
      ]
    }
  ]
}